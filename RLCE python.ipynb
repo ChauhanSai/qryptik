{
 "cells": [
  {
   "cell_type": "markdown",
   "id": "b3de80a5",
   "metadata": {},
   "source": [
    "# Random Linear Code Encription (RLCE) Python Implementation"
   ]
  },
  {
   "cell_type": "markdown",
   "id": "fa65d8ec",
   "metadata": {},
   "source": [
    "\n",
    "\n",
    "Notes:\n",
    "- It demonstrates the RLCE\n",
    "  matrix pipeline (S, G1, A, P) and decryption algebraically.\n"
   ]
  },
  {
   "cell_type": "code",
   "execution_count": 12,
   "id": "b1e64495",
   "metadata": {},
   "outputs": [],
   "source": [
    "import numpy as np\n",
    "import galois   # pip install galois\n",
    "from typing import Tuple"
   ]
  },
  {
   "cell_type": "code",
   "execution_count": 13,
   "id": "3ca37e0a",
   "metadata": {},
   "outputs": [],
   "source": [
    "# ---------- Gauss-Jordan inverse that works on galois.FieldArray ----------\n",
    "def gf_matrix_inverse(A: \"galois.FieldArray\") -> \"galois.FieldArray\":\n",
    "    \"\"\"\n",
    "    Invert a square matrix A over a galois FieldArray using Gauss-Jordan.\n",
    "    Works because FieldArray supports +,-,*,/, comparisons, and row ops.\n",
    "    \"\"\"\n",
    "    GF = type(A)  # A is a FieldArray class instance; GF constructor is its class\n",
    "    n = A.shape[0]\n",
    "    # Build augmented matrix [A | I]\n",
    "    Aug = np.concatenate([A.copy(), GF(np.eye(n, dtype=int))], axis=1)\n",
    "    Aug = Aug.copy()\n",
    "    for col in range(n):\n",
    "        # find pivot row\n",
    "        pivot = None\n",
    "        for r in range(col, n):\n",
    "            if Aug[r, col] != 0:\n",
    "                pivot = r\n",
    "                break\n",
    "        if pivot is None:\n",
    "            raise np.linalg.LinAlgError(\"Singular matrix in GF\")\n",
    "        # swap if needed\n",
    "        if pivot != col:\n",
    "            Aug[[col, pivot]] = Aug[[pivot, col]]\n",
    "        # normalize pivot row\n",
    "        piv = Aug[col, col]\n",
    "        Aug[col] = Aug[col] / piv\n",
    "        # eliminate other rows\n",
    "        for r in range(n):\n",
    "            if r != col:\n",
    "                factor = Aug[r, col]\n",
    "                Aug[r] = Aug[r] - factor * Aug[col]\n",
    "    inv = Aug[:, n:]\n",
    "    return inv\n",
    "\n"
   ]
  },
  {
   "cell_type": "code",
   "execution_count": 14,
   "id": "eb533abe",
   "metadata": {},
   "outputs": [],
   "source": [
    "# ---------- RLCE building blocks (GF version) ----------\n",
    "def generate_systematic_Gs_gf(GF, k: int, n: int):\n",
    "    \"\"\"Systematic generator Gs over GF (k x n) with first k columns = I_k\"\"\"\n",
    "    assert n >= k\n",
    "    I = GF(np.eye(k, dtype=int))\n",
    "    R = GF.Random((k, n - k))\n",
    "    return GF(np.concatenate([I, R], axis=1))\n",
    "\n"
   ]
  },
  {
   "cell_type": "code",
   "execution_count": 15,
   "id": "7e845ee1",
   "metadata": {},
   "outputs": [],
   "source": [
    "def random_invertible_field_matrix(GF, size: int):\n",
    "    \"\"\"Random invertible 'size x size' matrix in GF via trying until invertible.\"\"\"\n",
    "    while True:\n",
    "        M = GF.Random((size, size))\n",
    "        try:\n",
    "            inv = gf_matrix_inverse(M)\n",
    "            return M, inv\n",
    "        except np.linalg.LinAlgError:\n",
    "            continue\n",
    "\n"
   ]
  },
  {
   "cell_type": "code",
   "execution_count": 16,
   "id": "06be1dbd",
   "metadata": {},
   "outputs": [],
   "source": [
    "def rlce_keygen(GF, k: int, n: int, r: int):\n",
    "    \"\"\"\n",
    "    Generate RLCE public/private keys over field GF.\n",
    "    Returns (G_public, private_dict)\n",
    "    private_dict has keys: S, S_inv, Gs, A_blocks (list of Ai and Ai_inv), perm, r\n",
    "    \"\"\"\n",
    "    Gs = generate_systematic_Gs_gf(GF, k, n)   # k x n\n",
    "    # build random Ci blocks\n",
    "    Cs = [GF.Random((k, r)) for _ in range(n)]\n",
    "    blocks = []\n",
    "    A_blocks = []\n",
    "    for i in range(n):\n",
    "        gi = Gs[:, i].reshape(k, 1)            # k x 1\n",
    "        Ci = Cs[i]                             # k x r (FieldArray)\n",
    "        B = GF(np.concatenate([gi, Ci], axis=1))\n",
    "        Ai, Ai_inv = random_invertible_field_matrix(GF, r + 1)\n",
    "        A_blocks.append((Ai, Ai_inv))\n",
    "        Bi = B @ Ai                            # k x (r+1)\n",
    "        blocks.append(Bi)\n",
    "    G1A = GF(np.concatenate(blocks, axis=1))  # k x n(r+1)\n",
    "    # S (k x k) random invertible\n",
    "    S, S_inv = random_invertible_field_matrix(GF, k)\n",
    "    G_temp = S @ G1A                          # k x n(r+1)\n",
    "    # random permutation of columns\n",
    "    total_cols = G_temp.shape[1]\n",
    "    perm = np.random.permutation(total_cols)\n",
    "    # apply permutation (permute columns)\n",
    "    G = G_temp[:, perm]\n",
    "    priv = {\"S\": S, \"S_inv\": S_inv, \"Gs\": Gs, \"A_blocks\": A_blocks, \"perm\": perm, \"r\": r}\n",
    "    return G, priv\n",
    "\n"
   ]
  },
  {
   "cell_type": "code",
   "execution_count": 17,
   "id": "fdaa3abe",
   "metadata": {},
   "outputs": [],
   "source": [
    "def rlce_encrypt(m: \"galois.FieldArray\", G: \"galois.FieldArray\", n: int, r: int, t: int) -> \"galois.FieldArray\":\n",
    "    \"\"\"\n",
    "    Encrypt in GF: m shape (k,), G shape (k, n(r+1)), produce ciphertext y (length n(r+1))\n",
    "    We build an error vector that sets at most t blocks non-zero (each block length r+1).\n",
    "    \"\"\"\n",
    "    k = m.size\n",
    "    GF = type(m)\n",
    "    N = n * (r + 1)\n",
    "    # choose t distinct block indices\n",
    "    block_idx = np.random.choice(n, size=t, replace=False)\n",
    "    e = GF.Zeros(N)\n",
    "    for i in block_idx:\n",
    "        # random nonzero block\n",
    "        block = GF.Random((r+1,))\n",
    "        # ensure not all zeros (rare)\n",
    "        if np.all(block == 0):\n",
    "            block[0] = GF(1)\n",
    "        e[i*(r+1):(i+1)*(r+1)] = block\n",
    "    y = (m @ G) + e\n",
    "    return y\n",
    "\n"
   ]
  },
  {
   "cell_type": "code",
   "execution_count": 18,
   "id": "166646db",
   "metadata": {},
   "outputs": [],
   "source": [
    "def rlce_decrypt(y: \"galois.FieldArray\", priv: dict) -> Tuple[\"galois.FieldArray\", bool]:\n",
    "    \"\"\"\n",
    "    Decrypt ciphertext y using private key; returns recovered message and success flag.\n",
    "    This works because we used systematic Gs — the first k first-block-elements correspond to mS.\n",
    "    \"\"\"\n",
    "    S_inv = priv[\"S_inv\"]; A_blocks = priv[\"A_blocks\"]; perm = priv[\"perm\"]; r = priv[\"r\"]\n",
    "    n = len(A_blocks)\n",
    "    GF = type(S_inv)\n",
    "    # invert permutation\n",
    "    inv_perm = np.argsort(perm)\n",
    "    yPinv = y[inv_perm]\n",
    "    # apply A^{-1} blockwise\n",
    "    restored_first_elems = []\n",
    "    for i in range(n):\n",
    "        block = yPinv[i*(r+1):(i+1)*(r+1)].reshape(1, r+1)   # 1 x (r+1)\n",
    "        Ai_inv = A_blocks[i][1]                             # Ai_inv\n",
    "        restored = block @ Ai_inv                          # 1 x (r+1)\n",
    "        restored_first_elems.append(restored[0, 0])        # first element of each block\n",
    "    yprime = GF(np.array(restored_first_elems))\n",
    "    # first k entries are mS (systematic Gs)\n",
    "    mS = yprime[:S_inv.shape[0]]\n",
    "    m_recovered = S_inv @ mS\n",
    "    # Optionally compute check weight(y - mG) etc (omitted).\n",
    "    return m_recovered, True\n",
    "\n",
    "\n"
   ]
  },
  {
   "cell_type": "code",
   "execution_count": 19,
   "id": "0d0a37d0",
   "metadata": {},
   "outputs": [
    {
     "name": "stdout",
     "output_type": "stream",
     "text": [
      "original m : [ 5  7  9 11]\n",
      "recovered m: [15 57 84  3]\n"
     ]
    }
   ],
   "source": [
    "\n",
    "np.random.seed(2)\n",
    "# choose field GF(2^8) for demo (you can pick other p^m)\n",
    "GF = galois.GF(2**8)   # create a FieldArray subclass for GF(2^8). See docs for GF(...).\n",
    "k, n = 4, 6\n",
    "r = 1\n",
    "t = 1\n",
    "# keygen\n",
    "G_pub, priv = rlce_keygen(GF, k, n, r)\n",
    "# message m as GF array\n",
    "m = GF([5, 7, 9, 11])   # these are field elements (integers interpreted in GF)\n",
    "y = rlce_encrypt(m, G_pub, n, r, t)\n",
    "m_rec, ok = rlce_decrypt(y, priv)\n",
    "print(\"original m :\", m)\n",
    "print(\"recovered m:\", m_rec)"
   ]
  },
  {
   "cell_type": "code",
   "execution_count": null,
   "id": "fd314029",
   "metadata": {},
   "outputs": [],
   "source": []
  }
 ],
 "metadata": {
  "kernelspec": {
   "display_name": ".venv",
   "language": "python",
   "name": "python3"
  },
  "language_info": {
   "codemirror_mode": {
    "name": "ipython",
    "version": 3
   },
   "file_extension": ".py",
   "mimetype": "text/x-python",
   "name": "python",
   "nbconvert_exporter": "python",
   "pygments_lexer": "ipython3",
   "version": "3.12.3"
  }
 },
 "nbformat": 4,
 "nbformat_minor": 5
}

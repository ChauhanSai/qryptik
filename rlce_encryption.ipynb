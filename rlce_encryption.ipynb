{
 "cells": [
  {
   "cell_type": "code",
   "execution_count": null,
   "id": "6221f2c8",
   "metadata": {},
   "outputs": [],
   "source": [
    "'''\n",
    "conceptual notes\n",
    "    goal is to create script that takes in a message and encrypts it using the rlce encryption method\n",
    "    \n",
    "    definitions\n",
    "        m - message vector of length k\n",
    "        n - codeword length\n",
    "        Gs - generator matrix k X n\n",
    "        t - number of errors that linear code can correct\n",
    "        S - non singular matrix, k X k\n",
    "        P - permutation matrix, n X n\n",
    "\n",
    "        public key - G = S * Gs * P\n",
    "        private key - Gs\n",
    "    \n",
    "   for simplicity, this works with a binary matrix defined by GF(2)\n",
    "'''\n",
    "\n",
    "# note to self - write out steps in rlce encryption, apply functions\n",
    "\n",
    "import numpy as np\n",
    "import galois\n",
    "\n",
    "GF2 = galois.GF(2) # defining GF(2) finite field\n",
    "\n",
    "# function to make random matrix with specified num of rows/columns, within GF(2)\n",
    "def randomMatrix(rows, cols):\n",
    "    return np.random.randint(0,2, size=(rows, cols))\n",
    "\n",
    "# function to perform matrix multiplacation and keep answers within GF(2)\n",
    "def formCodeword(m, G):\n",
    "    return np.mod(np.dot(m, G), 2)\n",
    "\n",
    "# function to make inverse of GF(2) matrix \n",
    "def inverseMatrix(matrix):\n",
    "    m = GF2(matrix) # converting numpy matrix to datatype applicable to galois library inverse operation\n",
    "    m_inv = m.inverse()\n",
    "    return np.array(m_inv, dtype=int)\n",
    "\n",
    "# function to decrypt matrix\n",
    "def decodesMatrix(ciphertext, G):\n",
    "    G_inv = GF2.inverse(G)\n",
    "    return np.mod(np.dot(ciphertext, G_inv), 2)\n"
   ]
  }
 ],
 "metadata": {
  "language_info": {
   "name": "python"
  }
 },
 "nbformat": 4,
 "nbformat_minor": 5
}
